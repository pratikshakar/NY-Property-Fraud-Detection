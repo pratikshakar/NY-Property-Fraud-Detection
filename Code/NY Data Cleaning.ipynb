{
 "cells": [
  {
   "cell_type": "code",
   "execution_count": 2,
   "metadata": {
    "collapsed": true
   },
   "outputs": [],
   "source": [
    "import pandas as pd\n",
    "import numpy as np\n",
    "import scipy.stats as sps\n",
    "import matplotlib.pyplot as plt"
   ]
  },
  {
   "cell_type": "code",
   "execution_count": 3,
   "metadata": {
    "collapsed": true
   },
   "outputs": [],
   "source": [
    "property_data = pd.read_excel(\"NY property 1 million.xlsx\")"
   ]
  },
  {
   "cell_type": "markdown",
   "metadata": {},
   "source": [
    "## Means for AVTOT,AVLAND,FULLVAL"
   ]
  },
  {
   "cell_type": "code",
   "execution_count": 148,
   "metadata": {
    "collapsed": true
   },
   "outputs": [],
   "source": [
    "temp =property_data[property_data['FULLVAL']!=0]\n",
    "mean_fullval = temp.groupby('TAXCLASS')['FULLVAL'].mean()"
   ]
  },
  {
   "cell_type": "code",
   "execution_count": 149,
   "metadata": {
    "collapsed": true
   },
   "outputs": [],
   "source": [
    "property_data['AVLAND'].replace('NaN',0)\n",
    "temp_avland = property_data[property_data['AVLAND']!=0]\n",
    "mean_avland = temp_avland.groupby('TAXCLASS')['AVLAND'].mean()"
   ]
  },
  {
   "cell_type": "code",
   "execution_count": 150,
   "metadata": {
    "collapsed": true
   },
   "outputs": [],
   "source": [
    "property_data['AVTOT'].replace('NaN',0)\n",
    "temp_avtot = property_data[property_data['AVTOT']!=0]\n",
    "mean_avtot = temp_avland.groupby('TAXCLASS')['AVTOT'].mean()"
   ]
  },
  {
   "cell_type": "markdown",
   "metadata": {},
   "source": [
    "## Substituting Right Values for AVTOT, AVLAND, FULLVAL"
   ]
  },
  {
   "cell_type": "code",
   "execution_count": 151,
   "metadata": {
    "collapsed": true,
    "scrolled": true
   },
   "outputs": [],
   "source": [
    "for index in mean_fullval.index:\n",
    "    property_data.loc[(property_data['FULLVAL']==0) & (property_data['TAXCLASS']==index),'FULLVAL']=mean_fullval[index]\n",
    "    property_data.loc[(property_data['AVLAND']==0) & (property_data['TAXCLASS']==index),'AVLAND']=mean_avland[index]\n",
    "    property_data.loc[(property_data['AVTOT']==0) & (property_data['TAXCLASS']==index),'AVTOT']=mean_avtot[index]"
   ]
  },
  {
   "cell_type": "markdown",
   "metadata": {},
   "source": [
    "## STORIES"
   ]
  },
  {
   "cell_type": "code",
   "execution_count": 140,
   "metadata": {
    "collapsed": true
   },
   "outputs": [],
   "source": [
    "#as taxclass 1B and 3 have only NAs, delaing with them separately\n",
    "property_data.loc[(property_data['TAXCLASS']=='1B') | (property_data['TAXCLASS']=='3'),'STORIES']=property_data['STORIES'].mean()\n",
    "\n",
    "mean_stories=property_data.groupby(property_data['TAXCLASS'])['STORIES'].mean()\n",
    "property_data['STORIES']=property_data['STORIES'].fillna(value =0)\n",
    "for index in mean_stories.index:\n",
    "    if index == '1B' or index =='3':\n",
    "        continue\n",
    "    else:\n",
    "        property_data.loc[(property_data['STORIES']==0) & (property_data['TAXCLASS']==index),'STORIES']=mean_stories[index]"
   ]
  },
  {
   "cell_type": "markdown",
   "metadata": {},
   "source": [
    "## LTFRONT, LTDEPTH, BLDDEPTH, BLDFRONT"
   ]
  },
  {
   "cell_type": "code",
   "execution_count": 144,
   "metadata": {
    "collapsed": true
   },
   "outputs": [],
   "source": [
    "# #as these 4 values do not have NAs, we just need to replace 0s. \n",
    "\n",
    "# #calculate groupwise average (1st replace 0 by NAs so they are not counted in calculating mean)\n",
    "property_data.loc[property_data['LTFRONT']==0,'LTFRONT']=np.nan\n",
    "property_data.loc[property_data['LTDEPTH']==0,'LTDEPTH']=np.nan\n",
    "property_data.loc[property_data['BLDFRONT']==0,'BLDFRONT']=np.nan\n",
    "property_data.loc[property_data['BLDDEPTH']==0,'BLDDEPTH']=np.nan\n",
    "\n",
    "#calculate mean now (mean function ignores NAs but not 0s hence we converted 0 to NA)\n",
    "mean_LTFRONT=property_data.groupby(property_data['TAXCLASS'])['LTFRONT'].mean()\n",
    "mean_LTDEPTH=property_data.groupby(property_data['TAXCLASS'])['LTDEPTH'].mean()\n",
    "mean_BLDFRONT=property_data.groupby(property_data['TAXCLASS'])['BLDFRONT'].mean()\n",
    "mean_BLDDEPTH=property_data.groupby(property_data['TAXCLASS'])['BLDDEPTH'].mean()\n",
    "\n",
    "#update values\n",
    "for index in mean_LTFRONT.index:\n",
    "    property_data.loc[(property_data['LTFRONT'].isnull()) & (property_data['TAXCLASS']==index),'LTFRONT']=mean_LTFRONT[index]    \n",
    "    property_data.loc[(property_data['LTDEPTH'].isnull()) & (property_data['TAXCLASS']==index),'LTDEPTH']=mean_LTDEPTH[index]\n",
    "    property_data.loc[(property_data['BLDFRONT'].isnull()) & (property_data['TAXCLASS']==index),'BLDFRONT']=mean_BLDFRONT[index]\n",
    "    property_data.loc[(property_data['BLDDEPTH'].isnull()) & (property_data['TAXCLASS']==index),'BLDDEPTH']=mean_BLDDEPTH[index]"
   ]
  },
  {
   "cell_type": "code",
   "execution_count": 153,
   "metadata": {
    "collapsed": true
   },
   "outputs": [],
   "source": [
    "#Writing cleaned data to a new file\n",
    "property_data.to_excel('Prelim_Cleaning.xlsx', engine='xlsxwriter')"
   ]
  }
 ],
 "metadata": {
  "kernelspec": {
   "display_name": "Python 3",
   "language": "python",
   "name": "python3"
  },
  "language_info": {
   "codemirror_mode": {
    "name": "ipython",
    "version": 3
   },
   "file_extension": ".py",
   "mimetype": "text/x-python",
   "name": "python",
   "nbconvert_exporter": "python",
   "pygments_lexer": "ipython3",
   "version": "3.6.3"
  }
 },
 "nbformat": 4,
 "nbformat_minor": 2
}
