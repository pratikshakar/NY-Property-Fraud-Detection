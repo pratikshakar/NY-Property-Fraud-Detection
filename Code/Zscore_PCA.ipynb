{
 "cells": [
  {
   "cell_type": "code",
   "execution_count": 1,
   "metadata": {
    "collapsed": true
   },
   "outputs": [],
   "source": [
    "import pandas as pd \n",
    "from scipy.stats import zscore \n",
    "import numpy as np\n",
    "from scipy import stats"
   ]
  },
  {
   "cell_type": "code",
   "execution_count": null,
   "metadata": {},
   "outputs": [],
   "source": [
    "df = pd.read_csv(open(\"Z:/Sid/Sidd/studies/MS/1st Spring/DSO 562/Projects/Project 1/Data_Expert_Variables_v3.csv\",'rU'), index_col = 0,engine='c') "
   ]
  },
  {
   "cell_type": "code",
   "execution_count": 4,
   "metadata": {
    "collapsed": true
   },
   "outputs": [
    {
     "name": "stdout",
     "output_type": "stream",
     "text": [
      "['BLDGCL', 'TAXCLASS', 'BORO', 'FULLVAL_1_BORO', 'ZIP3', 'ZIP', 'LOTAREA_BLDAREA_AVLAND_ZIP5', 'LOTAREA_BLDAREA_AVTOT_ZIP5', 'STADDR', 'X', 'RECORD', 'BBLE', 'BLOCK', 'LOT', 'EASEMENT', 'OWNER', 'LTFRONT', 'LTDEPTH', 'STORIES', 'FULLVAL', 'AVLAND', 'AVTOT', 'EXLAND', 'EXTOT', 'EXCD1', 'EXMPTCL', 'BLDFRONT', 'BLDDEPTH', 'AVLAND2', 'AVTOT2', 'EXLAND2', 'EXTOT2', 'EXCD2', 'PERIOD', 'YEAR', 'VALTYPE', 'count', 'LTAREA', 'BLDAREA', 'BLDVOL_ADJ', 'FULLVAL_STORIES', 'AVTOT_AVLAND', 'FULLVAL_AVTOT', 'LOTAREA_BLDAREA', 'AVTOT_STORIES', 'AVLAND_STORIES', 'LOTAREA_BLDAREA_FULLVAL', 'LOTAREA_BLDAREA_AVTOT', 'LOTAREA_BLDAREA_AVLAND', 'FULLVAL_LTAREA', 'FULLVAL_BLDAREA', 'FULLVAL_BLDVOL', 'AVLAND_LTAREA', 'AVLAND_BLDAREA', 'AVLAND_BLDVOL', 'AVTOT_LTAREA', 'AVTOT_BLDAREA', 'AVTOT_BLDVOL', 'FULLVAL_1_ZIP5', 'FULLVAL_2_ZIP5', 'FULLVAL_3_ZIP5', 'AVLAND_1_ZIP5', 'AVLAND_2_ZIP5', 'AVLAND_3_ZIP5', 'AVTOT_1_ZIP5', 'AVTOT_2_ZIP5', 'AVTOT_3_ZIP5', 'LOTAREA_BLDAREA_FULLVAL_ZIP5', 'FULLVAL_STORIES_ZIP5', 'AVTOT_STORIES_ZIP5', 'AVLAND_STORIES_ZIP5', 'FULLVAL_1_ZIP3', 'FULLVAL_2_ZIP3', 'FULLVAL_3_ZIP3', 'AVLAND_1_ZIP3', 'AVLAND_2_ZIP3', 'AVLAND_3_ZIP3', 'AVTOT_1_ZIP3', 'AVTOT_2_ZIP3', 'AVTOT_3_ZIP3', 'LOTAREA_BLDAREA_FULLVAL_ZIP3', 'FULLVAL_STORIES_ZIP3', 'LOTAREA_BLDAREA_AVTOT_ZIP3', 'AVTOT_STORIES_ZIP3', 'LOTAREA_BLDAREA_AVLAND_ZIP3', 'AVLAND_STORIES_ZIP3', 'FULLVAL_2_BORO', 'FULLVAL_3_BORO', 'AVLAND_1_BORO', 'AVLAND_2_BORO', 'AVLAND_3_BORO', 'AVTOT_1_BORO', 'AVTOT_2_BORO', 'AVTOT_3_BORO', 'LOTAREA_BLDAREA_FULLVAL_BORO', 'FULLVAL_STORIES_BORO', 'LOTAREA_BLDAREA_AVTOT_BORO', 'AVTOT_STORIES_BORO', 'LOTAREA_BLDAREA_AVLAND_BORO', 'AVLAND_STORIES_BORO', 'FULLVAL_1_TAX', 'FULLVAL_2_TAX', 'FULLVAL_3_TAX', 'AVLAND_1_TAX', 'AVLAND_2_TAX', 'AVLAND_3_TAX', 'AVTOT_1_TAX', 'AVTOT_2_TAX', 'AVTOT_3_TAX', 'FULLVAL_1_BLD', 'FULLVAL_2_BLD', 'FULLVAL_3_BLD', 'AVLAND_1_BLD', 'AVLAND_2_BLD', 'AVLAND_3_BLD', 'AVTOT_1_BLD', 'AVTOT_2_BLD', 'AVTOT_3_BLD']\n"
     ]
    }
   ],
   "source": [
    "df.describe()\n",
    "df_col_names = list(df) \n",
    "# df.describe(include=['O']) to include only string columns \n",
    "print(df_col_names)\n"
   ]
  },
  {
   "cell_type": "code",
   "execution_count": 5,
   "metadata": {
    "collapsed": true
   },
   "outputs": [
    {
     "name": "stdout",
     "output_type": "stream",
     "text": [
      "['FULLVAL_1_BORO', 'LOTAREA_BLDAREA_AVLAND_ZIP5', 'LOTAREA_BLDAREA_AVTOT_ZIP5', 'BLDVOL_ADJ', 'FULLVAL_STORIES', 'AVTOT_AVLAND', 'FULLVAL_AVTOT', 'LOTAREA_BLDAREA', 'AVTOT_STORIES', 'AVLAND_STORIES', 'LOTAREA_BLDAREA_FULLVAL', 'LOTAREA_BLDAREA_AVTOT', 'LOTAREA_BLDAREA_AVLAND', 'FULLVAL_LTAREA', 'FULLVAL_BLDAREA', 'FULLVAL_BLDVOL', 'AVLAND_LTAREA', 'AVLAND_BLDAREA', 'AVLAND_BLDVOL', 'AVTOT_LTAREA', 'AVTOT_BLDAREA', 'AVTOT_BLDVOL', 'FULLVAL_1_ZIP5', 'FULLVAL_2_ZIP5', 'FULLVAL_3_ZIP5', 'AVLAND_1_ZIP5', 'AVLAND_2_ZIP5', 'AVLAND_3_ZIP5', 'AVTOT_1_ZIP5', 'AVTOT_2_ZIP5', 'AVTOT_3_ZIP5', 'LOTAREA_BLDAREA_FULLVAL_ZIP5', 'FULLVAL_STORIES_ZIP5', 'AVTOT_STORIES_ZIP5', 'AVLAND_STORIES_ZIP5', 'FULLVAL_1_ZIP3', 'FULLVAL_2_ZIP3', 'FULLVAL_3_ZIP3', 'AVLAND_1_ZIP3', 'AVLAND_2_ZIP3', 'AVLAND_3_ZIP3', 'AVTOT_1_ZIP3', 'AVTOT_2_ZIP3', 'AVTOT_3_ZIP3', 'LOTAREA_BLDAREA_FULLVAL_ZIP3', 'FULLVAL_STORIES_ZIP3', 'LOTAREA_BLDAREA_AVTOT_ZIP3', 'AVTOT_STORIES_ZIP3', 'LOTAREA_BLDAREA_AVLAND_ZIP3', 'AVLAND_STORIES_ZIP3', 'FULLVAL_2_BORO', 'FULLVAL_3_BORO', 'AVLAND_1_BORO', 'AVLAND_2_BORO', 'AVLAND_3_BORO', 'AVTOT_1_BORO', 'AVTOT_2_BORO', 'AVTOT_3_BORO', 'LOTAREA_BLDAREA_FULLVAL_BORO', 'FULLVAL_STORIES_BORO', 'LOTAREA_BLDAREA_AVTOT_BORO', 'AVTOT_STORIES_BORO', 'LOTAREA_BLDAREA_AVLAND_BORO', 'AVLAND_STORIES_BORO', 'FULLVAL_1_TAX', 'FULLVAL_2_TAX', 'FULLVAL_3_TAX', 'AVLAND_1_TAX', 'AVLAND_2_TAX', 'AVLAND_3_TAX', 'AVTOT_1_TAX', 'AVTOT_2_TAX', 'AVTOT_3_TAX', 'FULLVAL_1_BLD', 'FULLVAL_2_BLD', 'FULLVAL_3_BLD', 'AVLAND_1_BLD', 'AVLAND_2_BLD', 'AVLAND_3_BLD', 'AVTOT_1_BLD', 'AVTOT_2_BLD', 'AVTOT_3_BLD']\n"
     ]
    },
    {
     "data": {
      "text/plain": [
       "82"
      ]
     },
     "execution_count": 5,
     "metadata": {},
     "output_type": "execute_result"
    }
   ],
   "source": [
    "import re\n",
    "myre = re.compile('.*\\_.*')\n",
    "df_revised_col_names = [x for x in df_col_names if myre.match(x)]\n",
    "print(df_revised_col_names)\n",
    "#bldvol_adj to be removed and record to be added"
   ]
  },
  {
   "cell_type": "code",
   "execution_count": 6,
   "metadata": {
    "collapsed": true
   },
   "outputs": [],
   "source": [
    "del(df_revised_col_names[3]) #deleting the BLDVOL_ADJ record "
   ]
  },
  {
   "cell_type": "code",
   "execution_count": 8,
   "metadata": {
    "collapsed": true
   },
   "outputs": [
    {
     "name": "stdout",
     "output_type": "stream",
     "text": [
      "['FULLVAL_1_BORO', 'LOTAREA_BLDAREA_AVLAND_ZIP5', 'LOTAREA_BLDAREA_AVTOT_ZIP5', 'FULLVAL_STORIES', 'AVTOT_AVLAND', 'FULLVAL_AVTOT', 'LOTAREA_BLDAREA', 'AVTOT_STORIES', 'AVLAND_STORIES', 'LOTAREA_BLDAREA_FULLVAL', 'LOTAREA_BLDAREA_AVTOT', 'LOTAREA_BLDAREA_AVLAND', 'FULLVAL_LTAREA', 'FULLVAL_BLDAREA', 'FULLVAL_BLDVOL', 'AVLAND_LTAREA', 'AVLAND_BLDAREA', 'AVLAND_BLDVOL', 'AVTOT_LTAREA', 'AVTOT_BLDAREA', 'AVTOT_BLDVOL', 'FULLVAL_1_ZIP5', 'FULLVAL_2_ZIP5', 'FULLVAL_3_ZIP5', 'AVLAND_1_ZIP5', 'AVLAND_2_ZIP5', 'AVLAND_3_ZIP5', 'AVTOT_1_ZIP5', 'AVTOT_2_ZIP5', 'AVTOT_3_ZIP5', 'LOTAREA_BLDAREA_FULLVAL_ZIP5', 'FULLVAL_STORIES_ZIP5', 'AVTOT_STORIES_ZIP5', 'AVLAND_STORIES_ZIP5', 'FULLVAL_1_ZIP3', 'FULLVAL_2_ZIP3', 'FULLVAL_3_ZIP3', 'AVLAND_1_ZIP3', 'AVLAND_2_ZIP3', 'AVLAND_3_ZIP3', 'AVTOT_1_ZIP3', 'AVTOT_2_ZIP3', 'AVTOT_3_ZIP3', 'LOTAREA_BLDAREA_FULLVAL_ZIP3', 'FULLVAL_STORIES_ZIP3', 'LOTAREA_BLDAREA_AVTOT_ZIP3', 'AVTOT_STORIES_ZIP3', 'LOTAREA_BLDAREA_AVLAND_ZIP3', 'AVLAND_STORIES_ZIP3', 'FULLVAL_2_BORO', 'FULLVAL_3_BORO', 'AVLAND_1_BORO', 'AVLAND_2_BORO', 'AVLAND_3_BORO', 'AVTOT_1_BORO', 'AVTOT_2_BORO', 'AVTOT_3_BORO', 'LOTAREA_BLDAREA_FULLVAL_BORO', 'FULLVAL_STORIES_BORO', 'LOTAREA_BLDAREA_AVTOT_BORO', 'AVTOT_STORIES_BORO', 'LOTAREA_BLDAREA_AVLAND_BORO', 'AVLAND_STORIES_BORO', 'FULLVAL_1_TAX', 'FULLVAL_2_TAX', 'FULLVAL_3_TAX', 'AVLAND_1_TAX', 'AVLAND_2_TAX', 'AVLAND_3_TAX', 'AVTOT_1_TAX', 'AVTOT_2_TAX', 'AVTOT_3_TAX', 'FULLVAL_1_BLD', 'FULLVAL_2_BLD', 'FULLVAL_3_BLD', 'AVLAND_1_BLD', 'AVLAND_2_BLD', 'AVLAND_3_BLD', 'AVTOT_1_BLD', 'AVTOT_2_BLD', 'AVTOT_3_BLD']\n",
      "81\n"
     ]
    }
   ],
   "source": [
    "print(df_revised_col_names) #removed bldvol_adj "
   ]
  },
  {
   "cell_type": "code",
   "execution_count": 9,
   "metadata": {
    "collapsed": true
   },
   "outputs": [
    {
     "name": "stdout",
     "output_type": "stream",
     "text": [
      "['FULLVAL_1_BORO', 'LOTAREA_BLDAREA_AVLAND_ZIP5', 'LOTAREA_BLDAREA_AVTOT_ZIP5', 'FULLVAL_STORIES', 'AVTOT_AVLAND', 'FULLVAL_AVTOT', 'LOTAREA_BLDAREA', 'AVTOT_STORIES', 'AVLAND_STORIES', 'LOTAREA_BLDAREA_FULLVAL', 'LOTAREA_BLDAREA_AVTOT', 'LOTAREA_BLDAREA_AVLAND', 'FULLVAL_LTAREA', 'FULLVAL_BLDAREA', 'FULLVAL_BLDVOL', 'AVLAND_LTAREA', 'AVLAND_BLDAREA', 'AVLAND_BLDVOL', 'AVTOT_LTAREA', 'AVTOT_BLDAREA', 'AVTOT_BLDVOL', 'FULLVAL_1_ZIP5', 'FULLVAL_2_ZIP5', 'FULLVAL_3_ZIP5', 'AVLAND_1_ZIP5', 'AVLAND_2_ZIP5', 'AVLAND_3_ZIP5', 'AVTOT_1_ZIP5', 'AVTOT_2_ZIP5', 'AVTOT_3_ZIP5', 'LOTAREA_BLDAREA_FULLVAL_ZIP5', 'FULLVAL_STORIES_ZIP5', 'AVTOT_STORIES_ZIP5', 'AVLAND_STORIES_ZIP5', 'FULLVAL_1_ZIP3', 'FULLVAL_2_ZIP3', 'FULLVAL_3_ZIP3', 'AVLAND_1_ZIP3', 'AVLAND_2_ZIP3', 'AVLAND_3_ZIP3', 'AVTOT_1_ZIP3', 'AVTOT_2_ZIP3', 'AVTOT_3_ZIP3', 'LOTAREA_BLDAREA_FULLVAL_ZIP3', 'FULLVAL_STORIES_ZIP3', 'LOTAREA_BLDAREA_AVTOT_ZIP3', 'AVTOT_STORIES_ZIP3', 'LOTAREA_BLDAREA_AVLAND_ZIP3', 'AVLAND_STORIES_ZIP3', 'FULLVAL_2_BORO', 'FULLVAL_3_BORO', 'AVLAND_1_BORO', 'AVLAND_2_BORO', 'AVLAND_3_BORO', 'AVTOT_1_BORO', 'AVTOT_2_BORO', 'AVTOT_3_BORO', 'LOTAREA_BLDAREA_FULLVAL_BORO', 'FULLVAL_STORIES_BORO', 'LOTAREA_BLDAREA_AVTOT_BORO', 'AVTOT_STORIES_BORO', 'LOTAREA_BLDAREA_AVLAND_BORO', 'AVLAND_STORIES_BORO', 'FULLVAL_1_TAX', 'FULLVAL_2_TAX', 'FULLVAL_3_TAX', 'AVLAND_1_TAX', 'AVLAND_2_TAX', 'AVLAND_3_TAX', 'AVTOT_1_TAX', 'AVTOT_2_TAX', 'AVTOT_3_TAX', 'FULLVAL_1_BLD', 'FULLVAL_2_BLD', 'FULLVAL_3_BLD', 'AVLAND_1_BLD', 'AVLAND_2_BLD', 'AVLAND_3_BLD', 'AVTOT_1_BLD', 'AVTOT_2_BLD', 'RECORD']\n",
      "81\n"
     ]
    }
   ],
   "source": [
    "#adding record (unique identifier for each observation) to the list \n",
    "df_revised_col_names[80] = 'RECORD'\n",
    "print(df_revised_col_names)"
   ]
  },
  {
   "cell_type": "code",
   "execution_count": 10,
   "metadata": {},
   "outputs": [
    {
     "data": {
      "text/html": [
       "<div>\n",
       "<style scoped>\n",
       "    .dataframe tbody tr th:only-of-type {\n",
       "        vertical-align: middle;\n",
       "    }\n",
       "\n",
       "    .dataframe tbody tr th {\n",
       "        vertical-align: top;\n",
       "    }\n",
       "\n",
       "    .dataframe thead th {\n",
       "        text-align: right;\n",
       "    }\n",
       "</style>\n",
       "<table border=\"1\" class=\"dataframe\">\n",
       "  <thead>\n",
       "    <tr style=\"text-align: right;\">\n",
       "      <th></th>\n",
       "      <th>FULLVAL_1_BORO</th>\n",
       "      <th>LOTAREA_BLDAREA_AVLAND_ZIP5</th>\n",
       "      <th>LOTAREA_BLDAREA_AVTOT_ZIP5</th>\n",
       "      <th>FULLVAL_STORIES</th>\n",
       "      <th>AVTOT_AVLAND</th>\n",
       "      <th>FULLVAL_AVTOT</th>\n",
       "      <th>LOTAREA_BLDAREA</th>\n",
       "      <th>AVTOT_STORIES</th>\n",
       "      <th>AVLAND_STORIES</th>\n",
       "      <th>LOTAREA_BLDAREA_FULLVAL</th>\n",
       "      <th>...</th>\n",
       "      <th>AVTOT_3_TAX</th>\n",
       "      <th>FULLVAL_1_BLD</th>\n",
       "      <th>FULLVAL_2_BLD</th>\n",
       "      <th>FULLVAL_3_BLD</th>\n",
       "      <th>AVLAND_1_BLD</th>\n",
       "      <th>AVLAND_2_BLD</th>\n",
       "      <th>AVLAND_3_BLD</th>\n",
       "      <th>AVTOT_1_BLD</th>\n",
       "      <th>AVTOT_2_BLD</th>\n",
       "      <th>RECORD</th>\n",
       "    </tr>\n",
       "  </thead>\n",
       "  <tbody>\n",
       "    <tr>\n",
       "      <th>1</th>\n",
       "      <td>172.984639</td>\n",
       "      <td>0.014925</td>\n",
       "      <td>0.024129</td>\n",
       "      <td>371333.333333</td>\n",
       "      <td>1.713849</td>\n",
       "      <td>19.854566</td>\n",
       "      <td>4.261954</td>\n",
       "      <td>18702.666667</td>\n",
       "      <td>10912.666667</td>\n",
       "      <td>2.373909e+06</td>\n",
       "      <td>...</td>\n",
       "      <td>1.257888</td>\n",
       "      <td>1.156627</td>\n",
       "      <td>1.044901</td>\n",
       "      <td>1.070495</td>\n",
       "      <td>1.128563</td>\n",
       "      <td>1.021891</td>\n",
       "      <td>1.047183</td>\n",
       "      <td>1.162087</td>\n",
       "      <td>1.053020</td>\n",
       "      <td>186275</td>\n",
       "    </tr>\n",
       "    <tr>\n",
       "      <th>2</th>\n",
       "      <td>172.984639</td>\n",
       "      <td>0.001326</td>\n",
       "      <td>0.002123</td>\n",
       "      <td>410666.666667</td>\n",
       "      <td>1.687722</td>\n",
       "      <td>19.374115</td>\n",
       "      <td>3.543210</td>\n",
       "      <td>21196.666667</td>\n",
       "      <td>12559.333333</td>\n",
       "      <td>2.182617e+06</td>\n",
       "      <td>...</td>\n",
       "      <td>1.209394</td>\n",
       "      <td>1.305247</td>\n",
       "      <td>0.980308</td>\n",
       "      <td>1.004320</td>\n",
       "      <td>1.325364</td>\n",
       "      <td>0.997706</td>\n",
       "      <td>1.022399</td>\n",
       "      <td>1.343930</td>\n",
       "      <td>1.012425</td>\n",
       "      <td>988321</td>\n",
       "    </tr>\n",
       "    <tr>\n",
       "      <th>3</th>\n",
       "      <td>172.984639</td>\n",
       "      <td>0.021238</td>\n",
       "      <td>0.036878</td>\n",
       "      <td>368000.000000</td>\n",
       "      <td>1.815770</td>\n",
       "      <td>22.277827</td>\n",
       "      <td>4.571429</td>\n",
       "      <td>16518.666667</td>\n",
       "      <td>9097.333333</td>\n",
       "      <td>2.523429e+06</td>\n",
       "      <td>...</td>\n",
       "      <td>1.221463</td>\n",
       "      <td>1.174900</td>\n",
       "      <td>1.138482</td>\n",
       "      <td>1.166368</td>\n",
       "      <td>0.964346</td>\n",
       "      <td>0.936602</td>\n",
       "      <td>0.959782</td>\n",
       "      <td>1.052044</td>\n",
       "      <td>1.022528</td>\n",
       "      <td>850274</td>\n",
       "    </tr>\n",
       "    <tr>\n",
       "      <th>4</th>\n",
       "      <td>172.984639</td>\n",
       "      <td>0.007420</td>\n",
       "      <td>0.011385</td>\n",
       "      <td>366000.000000</td>\n",
       "      <td>1.559670</td>\n",
       "      <td>16.776165</td>\n",
       "      <td>5.668016</td>\n",
       "      <td>21816.666667</td>\n",
       "      <td>13988.000000</td>\n",
       "      <td>3.111741e+06</td>\n",
       "      <td>...</td>\n",
       "      <td>1.428712</td>\n",
       "      <td>0.834653</td>\n",
       "      <td>1.002791</td>\n",
       "      <td>1.027354</td>\n",
       "      <td>1.059122</td>\n",
       "      <td>1.275403</td>\n",
       "      <td>1.306969</td>\n",
       "      <td>0.992475</td>\n",
       "      <td>1.196023</td>\n",
       "      <td>1029181</td>\n",
       "    </tr>\n",
       "    <tr>\n",
       "      <th>5</th>\n",
       "      <td>172.984639</td>\n",
       "      <td>0.007607</td>\n",
       "      <td>0.012910</td>\n",
       "      <td>531333.333333</td>\n",
       "      <td>1.725089</td>\n",
       "      <td>20.396673</td>\n",
       "      <td>5.382775</td>\n",
       "      <td>26050.000000</td>\n",
       "      <td>15100.666667</td>\n",
       "      <td>4.290072e+06</td>\n",
       "      <td>...</td>\n",
       "      <td>1.008056</td>\n",
       "      <td>0.753942</td>\n",
       "      <td>0.860235</td>\n",
       "      <td>0.881306</td>\n",
       "      <td>0.711430</td>\n",
       "      <td>0.813596</td>\n",
       "      <td>0.833732</td>\n",
       "      <td>0.737368</td>\n",
       "      <td>0.843878</td>\n",
       "      <td>280099</td>\n",
       "    </tr>\n",
       "  </tbody>\n",
       "</table>\n",
       "<p>5 rows × 81 columns</p>\n",
       "</div>"
      ],
      "text/plain": [
       "   FULLVAL_1_BORO  LOTAREA_BLDAREA_AVLAND_ZIP5  LOTAREA_BLDAREA_AVTOT_ZIP5  \\\n",
       "1      172.984639                     0.014925                    0.024129   \n",
       "2      172.984639                     0.001326                    0.002123   \n",
       "3      172.984639                     0.021238                    0.036878   \n",
       "4      172.984639                     0.007420                    0.011385   \n",
       "5      172.984639                     0.007607                    0.012910   \n",
       "\n",
       "   FULLVAL_STORIES  AVTOT_AVLAND  FULLVAL_AVTOT  LOTAREA_BLDAREA  \\\n",
       "1    371333.333333      1.713849      19.854566         4.261954   \n",
       "2    410666.666667      1.687722      19.374115         3.543210   \n",
       "3    368000.000000      1.815770      22.277827         4.571429   \n",
       "4    366000.000000      1.559670      16.776165         5.668016   \n",
       "5    531333.333333      1.725089      20.396673         5.382775   \n",
       "\n",
       "   AVTOT_STORIES  AVLAND_STORIES  LOTAREA_BLDAREA_FULLVAL   ...     \\\n",
       "1   18702.666667    10912.666667             2.373909e+06   ...      \n",
       "2   21196.666667    12559.333333             2.182617e+06   ...      \n",
       "3   16518.666667     9097.333333             2.523429e+06   ...      \n",
       "4   21816.666667    13988.000000             3.111741e+06   ...      \n",
       "5   26050.000000    15100.666667             4.290072e+06   ...      \n",
       "\n",
       "   AVTOT_3_TAX  FULLVAL_1_BLD  FULLVAL_2_BLD  FULLVAL_3_BLD  AVLAND_1_BLD  \\\n",
       "1     1.257888       1.156627       1.044901       1.070495      1.128563   \n",
       "2     1.209394       1.305247       0.980308       1.004320      1.325364   \n",
       "3     1.221463       1.174900       1.138482       1.166368      0.964346   \n",
       "4     1.428712       0.834653       1.002791       1.027354      1.059122   \n",
       "5     1.008056       0.753942       0.860235       0.881306      0.711430   \n",
       "\n",
       "   AVLAND_2_BLD  AVLAND_3_BLD  AVTOT_1_BLD  AVTOT_2_BLD   RECORD  \n",
       "1      1.021891      1.047183     1.162087     1.053020   186275  \n",
       "2      0.997706      1.022399     1.343930     1.012425   988321  \n",
       "3      0.936602      0.959782     1.052044     1.022528   850274  \n",
       "4      1.275403      1.306969     0.992475     1.196023  1029181  \n",
       "5      0.813596      0.833732     0.737368     0.843878   280099  \n",
       "\n",
       "[5 rows x 81 columns]"
      ]
     },
     "execution_count": 10,
     "metadata": {},
     "output_type": "execute_result"
    }
   ],
   "source": [
    "#subset the dataframe based on this list \n",
    "\n",
    "df_revised = df[df_revised_col_names]\n",
    "list(df_revised)\n",
    "\n",
    "list(df_revised) == df_revised_col_names #checking if all columns got included \n",
    "df_revised.head()"
   ]
  },
  {
   "cell_type": "code",
   "execution_count": 13,
   "metadata": {},
   "outputs": [
    {
     "data": {
      "text/plain": [
       "pandas.core.frame.DataFrame"
      ]
     },
     "execution_count": 13,
     "metadata": {},
     "output_type": "execute_result"
    }
   ],
   "source": [
    "# zscoring \n",
    "from sklearn import preprocessing \n",
    "#for zscoring, remove record column  \n",
    "df_revised_withoutrecord = df_revised.loc[:, df_revised.columns != 'RECORD']\n",
    "normalized_df_revised_withoutrecord = preprocessing.scale(df_revised_withoutrecord) #this converts it into a numpy ndarray \n",
    "normalized_df_revised_withoutrecord_df = pd.DataFrame(normalized_df_revised_withoutrecord) "
   ]
  },
  {
   "cell_type": "code",
   "execution_count": 14,
   "metadata": {
    "collapsed": true
   },
   "outputs": [
    {
     "data": {
      "text/html": [
       "<div>\n",
       "<style scoped>\n",
       "    .dataframe tbody tr th:only-of-type {\n",
       "        vertical-align: middle;\n",
       "    }\n",
       "\n",
       "    .dataframe tbody tr th {\n",
       "        vertical-align: top;\n",
       "    }\n",
       "\n",
       "    .dataframe thead th {\n",
       "        text-align: right;\n",
       "    }\n",
       "</style>\n",
       "<table border=\"1\" class=\"dataframe\">\n",
       "  <thead>\n",
       "    <tr style=\"text-align: right;\">\n",
       "      <th></th>\n",
       "      <th>0</th>\n",
       "      <th>1</th>\n",
       "      <th>2</th>\n",
       "      <th>3</th>\n",
       "      <th>4</th>\n",
       "      <th>5</th>\n",
       "      <th>6</th>\n",
       "      <th>7</th>\n",
       "      <th>8</th>\n",
       "      <th>9</th>\n",
       "      <th>...</th>\n",
       "      <th>70</th>\n",
       "      <th>71</th>\n",
       "      <th>72</th>\n",
       "      <th>73</th>\n",
       "      <th>74</th>\n",
       "      <th>75</th>\n",
       "      <th>76</th>\n",
       "      <th>77</th>\n",
       "      <th>78</th>\n",
       "      <th>79</th>\n",
       "    </tr>\n",
       "  </thead>\n",
       "  <tbody>\n",
       "    <tr>\n",
       "      <th>0</th>\n",
       "      <td>-0.636988</td>\n",
       "      <td>-0.006042</td>\n",
       "      <td>-0.006753</td>\n",
       "      <td>0.014114</td>\n",
       "      <td>-0.225211</td>\n",
       "      <td>-0.004416</td>\n",
       "      <td>-0.001179</td>\n",
       "      <td>-0.012582</td>\n",
       "      <td>-0.013169</td>\n",
       "      <td>-0.004648</td>\n",
       "      <td>...</td>\n",
       "      <td>-0.001724</td>\n",
       "      <td>0.011435</td>\n",
       "      <td>0.026604</td>\n",
       "      <td>0.007887</td>\n",
       "      <td>0.008658</td>\n",
       "      <td>0.020142</td>\n",
       "      <td>0.003681</td>\n",
       "      <td>0.004856</td>\n",
       "      <td>0.024966</td>\n",
       "      <td>0.007893</td>\n",
       "    </tr>\n",
       "    <tr>\n",
       "      <th>1</th>\n",
       "      <td>-0.636988</td>\n",
       "      <td>-0.006099</td>\n",
       "      <td>-0.006859</td>\n",
       "      <td>0.021219</td>\n",
       "      <td>-0.227773</td>\n",
       "      <td>-0.005534</td>\n",
       "      <td>-0.002794</td>\n",
       "      <td>-0.011726</td>\n",
       "      <td>-0.011562</td>\n",
       "      <td>-0.004676</td>\n",
       "      <td>...</td>\n",
       "      <td>-0.003220</td>\n",
       "      <td>0.009285</td>\n",
       "      <td>0.051849</td>\n",
       "      <td>-0.003459</td>\n",
       "      <td>0.000531</td>\n",
       "      <td>0.050976</td>\n",
       "      <td>-0.000386</td>\n",
       "      <td>0.002305</td>\n",
       "      <td>0.052974</td>\n",
       "      <td>0.001850</td>\n",
       "    </tr>\n",
       "    <tr>\n",
       "      <th>2</th>\n",
       "      <td>-0.636988</td>\n",
       "      <td>-0.006016</td>\n",
       "      <td>-0.006691</td>\n",
       "      <td>0.013512</td>\n",
       "      <td>-0.215219</td>\n",
       "      <td>0.001227</td>\n",
       "      <td>-0.000484</td>\n",
       "      <td>-0.013332</td>\n",
       "      <td>-0.014942</td>\n",
       "      <td>-0.004627</td>\n",
       "      <td>...</td>\n",
       "      <td>-0.002848</td>\n",
       "      <td>0.009820</td>\n",
       "      <td>0.029708</td>\n",
       "      <td>0.024324</td>\n",
       "      <td>0.020433</td>\n",
       "      <td>-0.005586</td>\n",
       "      <td>-0.010662</td>\n",
       "      <td>-0.004139</td>\n",
       "      <td>0.008016</td>\n",
       "      <td>0.003354</td>\n",
       "    </tr>\n",
       "    <tr>\n",
       "      <th>3</th>\n",
       "      <td>-0.636988</td>\n",
       "      <td>-0.006073</td>\n",
       "      <td>-0.006815</td>\n",
       "      <td>0.013150</td>\n",
       "      <td>-0.240327</td>\n",
       "      <td>-0.011584</td>\n",
       "      <td>0.001979</td>\n",
       "      <td>-0.011513</td>\n",
       "      <td>-0.010167</td>\n",
       "      <td>-0.004543</td>\n",
       "      <td>...</td>\n",
       "      <td>0.003548</td>\n",
       "      <td>0.019009</td>\n",
       "      <td>-0.028086</td>\n",
       "      <td>0.000490</td>\n",
       "      <td>0.003359</td>\n",
       "      <td>0.009263</td>\n",
       "      <td>0.046315</td>\n",
       "      <td>0.031595</td>\n",
       "      <td>-0.001159</td>\n",
       "      <td>0.029180</td>\n",
       "    </tr>\n",
       "    <tr>\n",
       "      <th>4</th>\n",
       "      <td>-0.636988</td>\n",
       "      <td>-0.006072</td>\n",
       "      <td>-0.006807</td>\n",
       "      <td>0.043018</td>\n",
       "      <td>-0.224109</td>\n",
       "      <td>-0.003153</td>\n",
       "      <td>0.001338</td>\n",
       "      <td>-0.010060</td>\n",
       "      <td>-0.009080</td>\n",
       "      <td>-0.004374</td>\n",
       "      <td>...</td>\n",
       "      <td>-0.009433</td>\n",
       "      <td>0.000357</td>\n",
       "      <td>-0.041795</td>\n",
       "      <td>-0.024549</td>\n",
       "      <td>-0.014578</td>\n",
       "      <td>-0.045211</td>\n",
       "      <td>-0.031348</td>\n",
       "      <td>-0.017113</td>\n",
       "      <td>-0.040452</td>\n",
       "      <td>-0.023241</td>\n",
       "    </tr>\n",
       "  </tbody>\n",
       "</table>\n",
       "<p>5 rows × 80 columns</p>\n",
       "</div>"
      ],
      "text/plain": [
       "         0         1         2         3         4         5         6   \\\n",
       "0 -0.636988 -0.006042 -0.006753  0.014114 -0.225211 -0.004416 -0.001179   \n",
       "1 -0.636988 -0.006099 -0.006859  0.021219 -0.227773 -0.005534 -0.002794   \n",
       "2 -0.636988 -0.006016 -0.006691  0.013512 -0.215219  0.001227 -0.000484   \n",
       "3 -0.636988 -0.006073 -0.006815  0.013150 -0.240327 -0.011584  0.001979   \n",
       "4 -0.636988 -0.006072 -0.006807  0.043018 -0.224109 -0.003153  0.001338   \n",
       "\n",
       "         7         8         9     ...           70        71        72  \\\n",
       "0 -0.012582 -0.013169 -0.004648    ...    -0.001724  0.011435  0.026604   \n",
       "1 -0.011726 -0.011562 -0.004676    ...    -0.003220  0.009285  0.051849   \n",
       "2 -0.013332 -0.014942 -0.004627    ...    -0.002848  0.009820  0.029708   \n",
       "3 -0.011513 -0.010167 -0.004543    ...     0.003548  0.019009 -0.028086   \n",
       "4 -0.010060 -0.009080 -0.004374    ...    -0.009433  0.000357 -0.041795   \n",
       "\n",
       "         73        74        75        76        77        78        79  \n",
       "0  0.007887  0.008658  0.020142  0.003681  0.004856  0.024966  0.007893  \n",
       "1 -0.003459  0.000531  0.050976 -0.000386  0.002305  0.052974  0.001850  \n",
       "2  0.024324  0.020433 -0.005586 -0.010662 -0.004139  0.008016  0.003354  \n",
       "3  0.000490  0.003359  0.009263  0.046315  0.031595 -0.001159  0.029180  \n",
       "4 -0.024549 -0.014578 -0.045211 -0.031348 -0.017113 -0.040452 -0.023241  \n",
       "\n",
       "[5 rows x 80 columns]"
      ]
     },
     "execution_count": 14,
     "metadata": {},
     "output_type": "execute_result"
    }
   ],
   "source": [
    "normalized_df_revised_withoutrecord_df.head() #just checking to see all of them are on the same scale "
   ]
  },
  {
   "cell_type": "code",
   "execution_count": 15,
   "metadata": {},
   "outputs": [
    {
     "name": "stdout",
     "output_type": "stream",
     "text": [
      "12\n"
     ]
    }
   ],
   "source": [
    "#trying to see how many Principle Components will preserve 95 % of the variance \n",
    "from sklearn.decomposition import PCA \n",
    "pca = PCA() \n",
    "pca.fit(normalized_df_revised_withoutrecord_df)\n",
    "cumsum = np.cumsum(pca.explained_variance_ratio_)\n",
    "d = np.argmax(cumsum >=0.90) + 1 \n",
    "print(d)\n",
    "# we need 12 dimensions to preserve 90% of the variance in the data and 16 dimensions to preserve 95% variance in the data \n"
   ]
  },
  {
   "cell_type": "code",
   "execution_count": 16,
   "metadata": {},
   "outputs": [
    {
     "data": {
      "text/plain": [
       "<matplotlib.figure.Figure at 0x1c9826a9d68>"
      ]
     },
     "metadata": {},
     "output_type": "display_data"
    }
   ],
   "source": [
    "import matplotlib.pyplot as plt \n",
    "#plotting the explained variance as a function of number of dimensions to see where the elbow is the in the data \n",
    "#Explained variance) \n",
    "plt.plot(cumsum)\n",
    "plt.xlabel('Number of Components')\n",
    "plt.ylabel('Cumulative Explained Variance')\n",
    "plt.show()\n",
    "\n",
    "# based on this plot, we can see that we should choose to explain around 95% of the variance in the data so we decide to go with 95% variance and 14 dimensions \n",
    "# we should also keep the other dataset as an option\n"
   ]
  },
  {
   "cell_type": "code",
   "execution_count": 17,
   "metadata": {
    "collapsed": true
   },
   "outputs": [],
   "source": [
    "#running pca again with 90% as the final amount of variance we want to explain in the data \n",
    "pca = PCA(n_components = 0.88) \n",
    "pca_normalized_df_revised_withoutrecord = pca.fit_transform(normalized_df_revised_withoutrecord) #fitting the pca data \n"
   ]
  },
  {
   "cell_type": "code",
   "execution_count": 18,
   "metadata": {},
   "outputs": [
    {
     "data": {
      "text/plain": [
       "(1048575, 10)"
      ]
     },
     "execution_count": 18,
     "metadata": {},
     "output_type": "execute_result"
    }
   ],
   "source": [
    "type(pca_normalized_df_revised_withoutrecord)\n",
    "pca_normalized_df_revised_withoutrecord.shape\n",
    "#checked the shape \n",
    "# printing a few columns\n"
   ]
  },
  {
   "cell_type": "code",
   "execution_count": 22,
   "metadata": {
    "collapsed": true
   },
   "outputs": [
    {
     "name": "stdout",
     "output_type": "stream",
     "text": [
      "[[-0.01489867 -0.02934    -0.0037974  ...  0.29934386  0.05640176\n",
      "  -0.01196255]\n",
      " [-0.01854743 -0.02107014  0.0017473  ...  0.29253758  0.06073786\n",
      "   0.01278982]\n",
      " [-0.01697964 -0.04166196 -0.00206538 ...  0.30235457  0.06048246\n",
      "   0.00114467]\n",
      " ...\n",
      " [-0.04162252 -0.0546549   0.03946699 ...  0.23320993  0.1021559\n",
      "   0.04551196]\n",
      " [-0.05049217 -0.07710688  0.04575114 ...  0.58637082  0.08369587\n",
      "   0.06622313]\n",
      " [-0.06098441 -0.05615709  0.03336575 ... -0.51693678 -0.00918617\n",
      "   0.05575895]]\n"
     ]
    },
    {
     "data": {
      "text/html": [
       "<div>\n",
       "<style scoped>\n",
       "    .dataframe tbody tr th:only-of-type {\n",
       "        vertical-align: middle;\n",
       "    }\n",
       "\n",
       "    .dataframe tbody tr th {\n",
       "        vertical-align: top;\n",
       "    }\n",
       "\n",
       "    .dataframe thead th {\n",
       "        text-align: right;\n",
       "    }\n",
       "</style>\n",
       "<table border=\"1\" class=\"dataframe\">\n",
       "  <thead>\n",
       "    <tr style=\"text-align: right;\">\n",
       "      <th></th>\n",
       "      <th>0</th>\n",
       "      <th>1</th>\n",
       "      <th>2</th>\n",
       "      <th>3</th>\n",
       "      <th>4</th>\n",
       "      <th>5</th>\n",
       "      <th>6</th>\n",
       "      <th>7</th>\n",
       "      <th>8</th>\n",
       "      <th>9</th>\n",
       "      <th>10</th>\n",
       "      <th>11</th>\n",
       "      <th>12</th>\n",
       "      <th>13</th>\n",
       "      <th>14</th>\n",
       "      <th>15</th>\n",
       "    </tr>\n",
       "  </thead>\n",
       "  <tbody>\n",
       "    <tr>\n",
       "      <th>0</th>\n",
       "      <td>-0.014899</td>\n",
       "      <td>-0.029340</td>\n",
       "      <td>-0.003797</td>\n",
       "      <td>0.004140</td>\n",
       "      <td>-0.005446</td>\n",
       "      <td>0.014817</td>\n",
       "      <td>0.001645</td>\n",
       "      <td>0.002640</td>\n",
       "      <td>-0.010373</td>\n",
       "      <td>-0.576289</td>\n",
       "      <td>0.012446</td>\n",
       "      <td>-0.064800</td>\n",
       "      <td>0.049148</td>\n",
       "      <td>0.299344</td>\n",
       "      <td>0.056402</td>\n",
       "      <td>-0.011963</td>\n",
       "    </tr>\n",
       "    <tr>\n",
       "      <th>1</th>\n",
       "      <td>-0.018547</td>\n",
       "      <td>-0.021070</td>\n",
       "      <td>0.001747</td>\n",
       "      <td>0.002218</td>\n",
       "      <td>-0.004790</td>\n",
       "      <td>0.027286</td>\n",
       "      <td>-0.012798</td>\n",
       "      <td>0.012132</td>\n",
       "      <td>-0.003039</td>\n",
       "      <td>-0.576214</td>\n",
       "      <td>0.023033</td>\n",
       "      <td>-0.065973</td>\n",
       "      <td>0.060730</td>\n",
       "      <td>0.292538</td>\n",
       "      <td>0.060738</td>\n",
       "      <td>0.012790</td>\n",
       "    </tr>\n",
       "    <tr>\n",
       "      <th>2</th>\n",
       "      <td>-0.016980</td>\n",
       "      <td>-0.041662</td>\n",
       "      <td>-0.002065</td>\n",
       "      <td>0.003309</td>\n",
       "      <td>-0.012592</td>\n",
       "      <td>0.013843</td>\n",
       "      <td>0.004362</td>\n",
       "      <td>0.004553</td>\n",
       "      <td>-0.016377</td>\n",
       "      <td>-0.566995</td>\n",
       "      <td>0.015512</td>\n",
       "      <td>-0.056363</td>\n",
       "      <td>0.064611</td>\n",
       "      <td>0.302355</td>\n",
       "      <td>0.060482</td>\n",
       "      <td>0.001145</td>\n",
       "    </tr>\n",
       "    <tr>\n",
       "      <th>3</th>\n",
       "      <td>-0.019011</td>\n",
       "      <td>-0.054024</td>\n",
       "      <td>-0.003328</td>\n",
       "      <td>0.005103</td>\n",
       "      <td>-0.017375</td>\n",
       "      <td>0.001582</td>\n",
       "      <td>0.024407</td>\n",
       "      <td>0.007986</td>\n",
       "      <td>0.010867</td>\n",
       "      <td>-0.583300</td>\n",
       "      <td>0.023323</td>\n",
       "      <td>-0.075458</td>\n",
       "      <td>0.042017</td>\n",
       "      <td>0.280452</td>\n",
       "      <td>0.061678</td>\n",
       "      <td>0.022537</td>\n",
       "    </tr>\n",
       "    <tr>\n",
       "      <th>4</th>\n",
       "      <td>-0.028317</td>\n",
       "      <td>-0.064883</td>\n",
       "      <td>0.014185</td>\n",
       "      <td>0.008112</td>\n",
       "      <td>-0.036180</td>\n",
       "      <td>-0.027542</td>\n",
       "      <td>-0.004844</td>\n",
       "      <td>0.022030</td>\n",
       "      <td>-0.024160</td>\n",
       "      <td>-0.570419</td>\n",
       "      <td>0.021736</td>\n",
       "      <td>-0.062768</td>\n",
       "      <td>0.055647</td>\n",
       "      <td>0.289995</td>\n",
       "      <td>0.055557</td>\n",
       "      <td>0.017344</td>\n",
       "    </tr>\n",
       "  </tbody>\n",
       "</table>\n",
       "</div>"
      ],
      "text/plain": [
       "         0         1         2         3         4         5         6   \\\n",
       "0 -0.014899 -0.029340 -0.003797  0.004140 -0.005446  0.014817  0.001645   \n",
       "1 -0.018547 -0.021070  0.001747  0.002218 -0.004790  0.027286 -0.012798   \n",
       "2 -0.016980 -0.041662 -0.002065  0.003309 -0.012592  0.013843  0.004362   \n",
       "3 -0.019011 -0.054024 -0.003328  0.005103 -0.017375  0.001582  0.024407   \n",
       "4 -0.028317 -0.064883  0.014185  0.008112 -0.036180 -0.027542 -0.004844   \n",
       "\n",
       "         7         8         9         10        11        12        13  \\\n",
       "0  0.002640 -0.010373 -0.576289  0.012446 -0.064800  0.049148  0.299344   \n",
       "1  0.012132 -0.003039 -0.576214  0.023033 -0.065973  0.060730  0.292538   \n",
       "2  0.004553 -0.016377 -0.566995  0.015512 -0.056363  0.064611  0.302355   \n",
       "3  0.007986  0.010867 -0.583300  0.023323 -0.075458  0.042017  0.280452   \n",
       "4  0.022030 -0.024160 -0.570419  0.021736 -0.062768  0.055647  0.289995   \n",
       "\n",
       "         14        15  \n",
       "0  0.056402 -0.011963  \n",
       "1  0.060738  0.012790  \n",
       "2  0.060482  0.001145  \n",
       "3  0.061678  0.022537  \n",
       "4  0.055557  0.017344  "
      ]
     },
     "execution_count": 22,
     "metadata": {},
     "output_type": "execute_result"
    }
   ],
   "source": [
    "#zscoring the data again \n",
    "from scipy import stats\n",
    "normalized_pca_normalized_df_revised_withoutrecord = stats.zscore(pca_normalized_df_revised_withoutrecord)\n",
    "print(normalized_pca_normalized_df_revised_withoutrecord) #final dataset (PCA + ZScore + PCA) stored as an ndarray \n",
    "#convert again to a dataframe \n",
    "normalized_pca_normalized_df_revised_withoutrecord_df = pd.DataFrame(normalized_pca_normalized_df_revised_withoutrecord) \n",
    "\n",
    "#checking the head of the dataframe \n",
    "normalized_pca_normalized_df_revised_withoutrecord_df.head()  #sidd please check precision of the numbers (bit concerned about that)"
   ]
  },
  {
   "cell_type": "code",
   "execution_count": 23,
   "metadata": {
    "collapsed": true
   },
   "outputs": [],
   "source": [
    "normalized_pca_normalized_df_revised_withoutrecord_df.to_csv('final_dat.csv')"
   ]
  }
 ],
 "metadata": {
  "kernelspec": {
   "display_name": "Python 3",
   "language": "python",
   "name": "python3"
  },
  "language_info": {
   "codemirror_mode": {
    "name": "ipython",
    "version": 3
   },
   "file_extension": ".py",
   "mimetype": "text/x-python",
   "name": "python",
   "nbconvert_exporter": "python",
   "pygments_lexer": "ipython3",
   "version": "3.6.3"
  }
 },
 "nbformat": 4,
 "nbformat_minor": 2
}
